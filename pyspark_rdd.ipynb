{
 "cells": [
  {
   "cell_type": "code",
   "execution_count": 1,
   "metadata": {},
   "outputs": [],
   "source": [
    "from pyspark.sql import SparkSession"
   ]
  },
  {
   "cell_type": "code",
   "execution_count": 3,
   "metadata": {},
   "outputs": [],
   "source": [
    "spark = SparkSession.builder.getOrCreate()"
   ]
  },
  {
   "cell_type": "code",
   "execution_count": 16,
   "metadata": {},
   "outputs": [],
   "source": [
    "# Create an RDD from a list of sample clickstream count\n",
    "sample_clickstream_counts = [\n",
    "    [\"other-search\", \"Hanging_Gardens_of_Babylon\", \"external\", 47000],\n",
    "    [\"other-empty\", \"Hanging_Gardens_of_Babylon\", \"external\", 34600],\n",
    "    [\"Wonders_of_the_World\", \"Hanging_Gardens_of_Babylon\", \"link\", 14000],\n",
    "    [\"Babylon\", \"Hanging_Gardens_of_Babylon\", \"link\", 2500]\n",
    "]\n",
    "\n",
    "clickstream_counts_rdd = spark.sparkContext.parallelize(\n",
    "    sample_clickstream_counts\n",
    ")"
   ]
  },
  {
   "cell_type": "code",
   "execution_count": 17,
   "metadata": {},
   "outputs": [
    {
     "name": "stdout",
     "output_type": "stream",
     "text": [
      "+--------------------+--------------------------+-------------+----------+\n",
      "|source_page         |target_page               |link_category|link_count|\n",
      "+--------------------+--------------------------+-------------+----------+\n",
      "|other-search        |Hanging_Gardens_of_Babylon|external     |47000     |\n",
      "|other-empty         |Hanging_Gardens_of_Babylon|external     |34600     |\n",
      "|Wonders_of_the_World|Hanging_Gardens_of_Babylon|link         |14000     |\n",
      "|Babylon             |Hanging_Gardens_of_Babylon|link         |2500      |\n",
      "+--------------------+--------------------------+-------------+----------+\n",
      "\n"
     ]
    }
   ],
   "source": [
    "clickstream_sample_df = clickstream_counts_rdd\\\n",
    "    .toDF([\"source_page\", \"target_page\",  \"link_category\", \"link_count\"])\n",
    "\n",
    "# Display the DataFrame to the notebook\n",
    "clickstream_sample_df.show(5, truncate=False)"
   ]
  },
  {
   "cell_type": "code",
   "execution_count": 39,
   "metadata": {},
   "outputs": [],
   "source": [
    "clickstream = spark.read \\\n",
    "    .option(\"header\", True) \\\n",
    "    .option(\"delimiter\", \"\\t\") \\\n",
    "    .option(\"inferSchema\", True) \\\n",
    "    .csv(\"part-00000-58fb80d1-6fa0-45cd-a14d-1e6c0ce2f34c-c000.csv\")"
   ]
  },
  {
   "cell_type": "code",
   "execution_count": 40,
   "metadata": {},
   "outputs": [
    {
     "name": "stdout",
     "output_type": "stream",
     "text": [
      "+-------------------+--------------+-------------+-------------+-----------+\n",
      "|referrer           |resource      |link_category|language_code|click_count|\n",
      "+-------------------+--------------+-------------+-------------+-----------+\n",
      "|Daniel_Day-Lewis   |Phantom_Thread|link         |en           |43190      |\n",
      "|other-internal     |Phantom_Thread|external     |en           |21683      |\n",
      "|other-empty        |Phantom_Thread|external     |en           |169532     |\n",
      "|90th_Academy_Awards|Phantom_Thread|link         |en           |40449      |\n",
      "|other-search       |Phantom_Thread|external     |en           |536940     |\n",
      "+-------------------+--------------+-------------+-------------+-----------+\n",
      "only showing top 5 rows\n",
      "\n"
     ]
    }
   ],
   "source": [
    "clickstream.show(5,truncate=False)"
   ]
  },
  {
   "cell_type": "code",
   "execution_count": 38,
   "metadata": {},
   "outputs": [
    {
     "name": "stdout",
     "output_type": "stream",
     "text": [
      "root\n",
      " |-- referrer: string (nullable = true)\n",
      " |-- resource: string (nullable = true)\n",
      " |-- link_category: string (nullable = true)\n",
      " |-- language_code: string (nullable = true)\n",
      " |-- click_count: integer (nullable = true)\n",
      "\n"
     ]
    }
   ],
   "source": [
    "clickstream.printSchema()"
   ]
  },
  {
   "cell_type": "code",
   "execution_count": 42,
   "metadata": {},
   "outputs": [
    {
     "name": "stdout",
     "output_type": "stream",
     "text": [
      "+-------------------+--------------+-------------+-----------+\n",
      "|referrer           |resource      |link_category|click_count|\n",
      "+-------------------+--------------+-------------+-----------+\n",
      "|Daniel_Day-Lewis   |Phantom_Thread|link         |43190      |\n",
      "|other-internal     |Phantom_Thread|external     |21683      |\n",
      "|other-empty        |Phantom_Thread|external     |169532     |\n",
      "|90th_Academy_Awards|Phantom_Thread|link         |40449      |\n",
      "|other-search       |Phantom_Thread|external     |536940     |\n",
      "+-------------------+--------------+-------------+-----------+\n",
      "only showing top 5 rows\n",
      "\n",
      "root\n",
      " |-- referrer: string (nullable = true)\n",
      " |-- resource: string (nullable = true)\n",
      " |-- link_category: string (nullable = true)\n",
      " |-- click_count: integer (nullable = true)\n",
      "\n"
     ]
    }
   ],
   "source": [
    "clickstream=clickstream.drop('language_code')\n",
    "clickstream.show(5,truncate=False)\n",
    "clickstream.printSchema()"
   ]
  },
  {
   "cell_type": "code",
   "execution_count": 51,
   "metadata": {},
   "outputs": [
    {
     "name": "stdout",
     "output_type": "stream",
     "text": [
      "+-------------------+--------------+-------------+-----------+\n",
      "|source_page        |target_page   |link_category|click_count|\n",
      "+-------------------+--------------+-------------+-----------+\n",
      "|Daniel_Day-Lewis   |Phantom_Thread|link         |43190      |\n",
      "|other-internal     |Phantom_Thread|external     |21683      |\n",
      "|other-empty        |Phantom_Thread|external     |169532     |\n",
      "|90th_Academy_Awards|Phantom_Thread|link         |40449      |\n",
      "|other-search       |Phantom_Thread|external     |536940     |\n",
      "+-------------------+--------------+-------------+-----------+\n",
      "only showing top 5 rows\n",
      "\n",
      "root\n",
      " |-- source_page: string (nullable = true)\n",
      " |-- target_page: string (nullable = true)\n",
      " |-- link_category: string (nullable = true)\n",
      " |-- click_count: integer (nullable = true)\n",
      "\n"
     ]
    }
   ],
   "source": [
    "# Rename `referrer` and `resource` to `source_page` and `target_page`\n",
    "clickstream = clickstream\\\n",
    "    .withColumnRenamed(\"referrer\", \"source_page\")\\\n",
    "    .withColumnRenamed(\"resource\", \"target_page\")\n",
    "clickstream.show(5, truncate=False)\n",
    "clickstream.printSchema()"
   ]
  },
  {
   "cell_type": "code",
   "execution_count": 55,
   "metadata": {},
   "outputs": [],
   "source": [
    "clickstream.createOrReplaceTempView('clickstream')"
   ]
  },
  {
   "cell_type": "code",
   "execution_count": 56,
   "metadata": {},
   "outputs": [
    {
     "name": "stdout",
     "output_type": "stream",
     "text": [
      "+----------------------------------+--------------------------+-------------+-----------+\n",
      "|source_page                       |target_page               |link_category|click_count|\n",
      "+----------------------------------+--------------------------+-------------+-----------+\n",
      "|other-search                      |Hanging_Gardens_of_Babylon|external     |47088      |\n",
      "|other-empty                       |Hanging_Gardens_of_Babylon|external     |34619      |\n",
      "|Wonders_of_the_World              |Hanging_Gardens_of_Babylon|link         |14668      |\n",
      "|Seven_Wonders_of_the_Ancient_World|Hanging_Gardens_of_Babylon|link         |12296      |\n",
      "+----------------------------------+--------------------------+-------------+-----------+\n",
      "\n"
     ]
    }
   ],
   "source": [
    "# using dataframe pyspark methods\n",
    "clickstream.filter(clickstream.target_page == 'Hanging_Gardens_of_Babylon')\\\n",
    "            .orderBy('click_count',ascending=False)\\\n",
    "            .show(10,truncate=False)\n"
   ]
  },
  {
   "cell_type": "code",
   "execution_count": 57,
   "metadata": {},
   "outputs": [
    {
     "name": "stdout",
     "output_type": "stream",
     "text": [
      "+----------------------------------+--------------------------+-------------+-----------+\n",
      "|source_page                       |target_page               |link_category|click_count|\n",
      "+----------------------------------+--------------------------+-------------+-----------+\n",
      "|other-search                      |Hanging_Gardens_of_Babylon|external     |47088      |\n",
      "|other-empty                       |Hanging_Gardens_of_Babylon|external     |34619      |\n",
      "|Wonders_of_the_World              |Hanging_Gardens_of_Babylon|link         |14668      |\n",
      "|Seven_Wonders_of_the_Ancient_World|Hanging_Gardens_of_Babylon|link         |12296      |\n",
      "+----------------------------------+--------------------------+-------------+-----------+\n",
      "\n"
     ]
    }
   ],
   "source": [
    "# using sql\n",
    "spark.sql(\n",
    "    \"\"\"\n",
    "    select * from clickstream\n",
    "    where target_page = 'Hanging_Gardens_of_Babylon'\n",
    "    order by click_count desc\n",
    "    \"\"\"\n",
    ").show(5,truncate=False)"
   ]
  },
  {
   "cell_type": "markdown",
   "metadata": {},
   "source": [
    "### sum(click_count) group by link_category"
   ]
  },
  {
   "cell_type": "code",
   "execution_count": 60,
   "metadata": {},
   "outputs": [
    {
     "name": "stdout",
     "output_type": "stream",
     "text": [
      "+-------------+----------------+\n",
      "|link_category|sum(click_count)|\n",
      "+-------------+----------------+\n",
      "|link         |97805811        |\n",
      "|other        |9338172         |\n",
      "|external     |3248677856      |\n",
      "+-------------+----------------+\n",
      "\n"
     ]
    }
   ],
   "source": [
    "clickstream.groupBy('link_category')\\\n",
    "            .sum('click_count')\\\n",
    "            .show(10,truncate=False)"
   ]
  },
  {
   "cell_type": "code",
   "execution_count": 61,
   "metadata": {},
   "outputs": [
    {
     "name": "stdout",
     "output_type": "stream",
     "text": [
      "+-------------+----------------+\n",
      "|link_category|sum(click_count)|\n",
      "+-------------+----------------+\n",
      "|link         |97805811        |\n",
      "|other        |9338172         |\n",
      "|external     |3248677856      |\n",
      "+-------------+----------------+\n",
      "\n"
     ]
    }
   ],
   "source": [
    "# using sql\n",
    "spark.sql(\n",
    "    \"\"\"\n",
    "    select link_category,sum(click_count)\n",
    "    from clickstream\n",
    "    group by link_category\n",
    "    \"\"\"\n",
    ").show(10,truncate=False)"
   ]
  },
  {
   "cell_type": "markdown",
   "metadata": {},
   "source": [
    "create a new DataFrame named internal_clickstream that only contains article pairs where link_category is link"
   ]
  },
  {
   "cell_type": "code",
   "execution_count": 63,
   "metadata": {},
   "outputs": [
    {
     "name": "stdout",
     "output_type": "stream",
     "text": [
      "+----------------------------+----------------------------+-----------+\n",
      "|source_page                 |target_page                 |click_count|\n",
      "+----------------------------+----------------------------+-----------+\n",
      "|Daniel_Day-Lewis            |Phantom_Thread              |43190      |\n",
      "|90th_Academy_Awards         |Phantom_Thread              |40449      |\n",
      "|Shinee                      |Kim_Jong-hyun_(singer)      |24433      |\n",
      "|Agnyaathavaasi              |Anu_Emmanuel                |15020      |\n",
      "|Naa_Peru_Surya              |Anu_Emmanuel                |12361      |\n",
      "|Mariah_Carey                |Nick_Cannon                 |16214      |\n",
      "|Kesha                       |Rainbow_(Kesha_album)       |11448      |\n",
      "|David_Attenborough          |John_Attenborough           |11252      |\n",
      "|Boney_M.                    |Bobby_Farrell               |14095      |\n",
      "|The_End_of_the_F***ing_World|Jessica_Barden              |237279     |\n",
      "|Quentin_Tarantino           |The_Hateful_Eight           |12018      |\n",
      "|Ready_Player_One_(film)     |Olivia_Cooke                |17468      |\n",
      "|Royal_Rumble_(2018)         |Kevin_Owens_and_Sami_Zayn   |11503      |\n",
      "|Macaulay_Culkin             |Brenda_Song                 |20477      |\n",
      "|Altered_Carbon              |Altered_Carbon_(TV_series)  |23962      |\n",
      "|Lil_Pump                    |Smokepurpp                  |36736      |\n",
      "|Fifth_Harmony               |Camila_Cabello              |30959      |\n",
      "|Havana_(Camila_Cabello_song)|Camila_Cabello              |12803      |\n",
      "|Jennifer_Aniston            |John_Aniston                |26498      |\n",
      "|Kingsman:_The_Golden_Circle |Kingsman:_The_Secret_Service|11969      |\n",
      "+----------------------------+----------------------------+-----------+\n",
      "only showing top 20 rows\n",
      "\n"
     ]
    }
   ],
   "source": [
    "# using dataframe\n",
    "result = clickstream.select(['source_page','target_page','click_count'])\\\n",
    "            .filter(clickstream.link_category=='link')\n",
    "result.show(truncate=False)"
   ]
  },
  {
   "cell_type": "code",
   "execution_count": 65,
   "metadata": {},
   "outputs": [],
   "source": [
    "result.write.csv('./results/article_links_csv',mode =\"overwrite\")\n"
   ]
  },
  {
   "cell_type": "code",
   "execution_count": 67,
   "metadata": {},
   "outputs": [
    {
     "name": "stderr",
     "output_type": "stream",
     "text": [
      "                                                                                \r"
     ]
    }
   ],
   "source": [
    "result.write.parquet('./results/article_links_parquet',mode =\"overwrite\")"
   ]
  },
  {
   "cell_type": "code",
   "execution_count": null,
   "metadata": {},
   "outputs": [],
   "source": []
  }
 ],
 "metadata": {
  "kernelspec": {
   "display_name": "base",
   "language": "python",
   "name": "python3"
  },
  "language_info": {
   "codemirror_mode": {
    "name": "ipython",
    "version": 3
   },
   "file_extension": ".py",
   "mimetype": "text/x-python",
   "name": "python",
   "nbconvert_exporter": "python",
   "pygments_lexer": "ipython3",
   "version": "3.11.5"
  },
  "orig_nbformat": 4
 },
 "nbformat": 4,
 "nbformat_minor": 2
}
